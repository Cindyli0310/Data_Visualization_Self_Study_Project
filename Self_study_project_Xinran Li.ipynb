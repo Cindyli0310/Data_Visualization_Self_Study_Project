{
 "cells": [
  {
   "cell_type": "markdown",
   "metadata": {},
   "source": [
    "# Self study project - climate change "
   ]
  },
  {
   "cell_type": "markdown",
   "metadata": {},
   "source": [
    "## Part one"
   ]
  },
  {
   "cell_type": "markdown",
   "metadata": {},
   "source": [
    "## Introduction"
   ]
  },
  {
   "cell_type": "markdown",
   "metadata": {},
   "source": [
    "The self study project topic is climate change caused by human activity.Students are required to develop a literature-based evaluation framework and then use the framework to evaluate five visualizations. Second, write an overall assessment and conclusion."
   ]
  },
  {
   "cell_type": "markdown",
   "metadata": {},
   "source": [
    "## Objectives"
   ]
  },
  {
   "cell_type": "markdown",
   "metadata": {},
   "source": [
    "By developing a literature-based evaluation framework, students should have knowledge about what is an effectiveness visualization, and students are eligible to create an evaluation framework. Required procedures as below:  \n",
    "1. Do a literature search on what is an effective visualization\n",
    "2. Select evaluation criteria and put them into a framework\n",
    "3. Find five visualizations\n",
    "4. Use your criteria to evaluate the visualizations\n",
    "5. Write a conclusion"
   ]
  },
  {
   "cell_type": "markdown",
   "metadata": {},
   "source": [
    "## Evaluation Framework"
   ]
  },
  {
   "cell_type": "markdown",
   "metadata": {},
   "source": [
    "<table>\n",
    "\t<tr>\n",
    "\t\t<th>Graph Clarity(3)</th>\n",
    "\t\t<th>Graph Integrity(1)</th>\n",
    "\t\t<th>Graph Labeling/title(2) </th>\n",
    "        <th>Visualization Color(2) </th>\n",
    "        <th>Ordering(1) </th>\n",
    "        <th>Accessibility(1) </th>\n",
    " \t</tr>\n",
    " \t<tr>\n",
    "  \t\t<td>Appropriate  explanation(1)</td>\n",
    "   \t\t<td>No exaggeration(1)</td>\n",
    "        <td>No overlabel or typos(1)</td>\n",
    "\t\t<td>A single color to represent the same type of data(1)</td>\n",
    "        <td>Order data hierarchy(0.5)</td>\n",
    "        <td>Alternative text for images(0.5)</td>\n",
    " \t</tr>\n",
    "\t<tr>\n",
    "  \t\t<td>No overdressing with unnecessary elements((1)</td>\n",
    "   \t\t<td> </td>\n",
    "\t\t<td>No vague/missing labels/title(1)</td>\n",
    "        <td>Appropriate colors(1)</td>\n",
    "        <td>Order evenly(0.5)</td>\n",
    "        <td>necessary contrast and text sizes for readability(0.5)</td>\n",
    " \t</tr>\n",
    "\t<tr>\n",
    "  \t\t<td>Easy to understand(1)</td>\n",
    "   \t\t<td> </td>\n",
    "\t\t<td> </td>\n",
    "        <td> </td>\n",
    "        <td> </td>\n",
    "        <td> </td>\n",
    " \t</tr>\n",
    "</table>"
   ]
  },
  {
   "cell_type": "markdown",
   "metadata": {},
   "source": [
    "## Evaluation criteria"
   ]
  },
  {
   "cell_type": "markdown",
   "metadata": {},
   "source": [
    "<b>Graph clarity</b>:  The author Max Branson said in the article \"EFFECTIVE DATA VISUALIZATION\", graph clarity can save everybody some valuable time.I am totally agree his idea. Creating an clear visualization can help people do the heavy lifting to enhance and communicate the story. "
   ]
  },
  {
   "cell_type": "markdown",
   "metadata": {},
   "source": [
    "<b>Graph integrity</b>: Whether this results in proper estimation. \"An overblown or understated message, it just misleads your audience.For example, some bars to exaggerate differences in the data, our audience loses the ability to make useful visual comparisons. On the other hand, some stretching the height of the graph can create fake drama, while stretching the width can underplay it (Geokoboard).\""
   ]
  },
  {
   "cell_type": "markdown",
   "metadata": {},
   "source": [
    "<b>Graph labeling/title</b>: Readers rely on title to understand the meaning of visualization, and appropriate labels to interpret data. But remember, too much or too few labels can intefere."
   ]
  },
  {
   "cell_type": "markdown",
   "metadata": {},
   "source": [
    "<b>Visualization color</b>: Color is a great tool when used well. When used poorly, it can not just distract but misdirect the reader. Choosing appropriate colors is important.\"Some colors stand out more than others, giving unnecessary weight to that data\"(Katy French). In addition, \"use a single color to represent the same type of data. If you are depicting sales month by month on a bar chart, use a single color. But if you are comparing last year’s sales to this year’s sales in a grouped chart, you should use a different color for each year(Katy French)\"."
   ]
  },
  {
   "cell_type": "markdown",
   "metadata": {},
   "source": [
    "<b>Ordering</b>:Random patterns that are difficult to interpret are frustrating and detrimental to what you’re trying to communicate. Order data hierarchy means \"order categories alphabetically, sequentially, or by value\" (Katy French). Order evenly is also very important. \"Use natural increments on your axes (0, 5, 10, 15, 20) instead of awkward or uneven increments (0, 3, 5, 16, 50)\"(Katy French) is easy for readers to understand."
   ]
  },
  {
   "cell_type": "markdown",
   "metadata": {},
   "source": [
    "<b>Accessibility</b>: \"Accessibility are important to take into consideration because they help a broader audience understand your graphic, including both people with and without disabilities. Alternative text means displayed when the image cannot be. Screen readers, the assistive technology used by people who are visually impaired, read alt text out loud in place of people seeing the image\"(Cole Nussbaumer Knaflic, 2018). Because all five pictures I selected comes from webpage, I will right click the picture and choose 'inspect' to check whether the picture has alternative text('alt' attribute). On the other hand, necessary contrast and text sizes are important,because \"we should also consider users with low vision and a variety of other conditions that affect vision\"(ole Nussbaumer Knaflic, 2018). "
   ]
  },
  {
   "cell_type": "markdown",
   "metadata": {},
   "source": [
    "## Overall Assessment:"
   ]
  },
  {
   "cell_type": "markdown",
   "metadata": {},
   "source": [
    "<table>\n",
    " <tr>\n",
    "    <th> </th>\n",
    "\t<th>Graph Clarity(3)</th>\n",
    "\t<th>Graph Integrity(1)</th>\n",
    "\t<th>Graph Labeling/title(2) </th>\n",
    "    <th>Visualization Color(2) </th>\n",
    "    <th>Ordering(1) </th>\n",
    "    <th>Accessibility(1) </th>\n",
    "    <td><strong>Total Score(max 10)</strong></td>\n",
    " </tr>\n",
    "<tr>\n",
    "    <td><strong>Graph 1</strong></td>\n",
    "   \t<td>3</td>\n",
    "    <td>0</td>\n",
    "    <td>1.5</td>\n",
    "    <td>2</td>\n",
    "    <td>1</td>\n",
    "    <td>0.5</td>\n",
    "    <td>8</td>\n",
    " \t</tr>\n",
    "\t<tr>\n",
    " <td><strong>Graph 2</strong></td>\n",
    "   \t<td>2.5</td>\n",
    "    <td>1</td>\n",
    "\t<td>2</td>\n",
    "    <td>2</td>\n",
    "    <td>1</td>\n",
    "    <td>1</td>\n",
    "    <td>9.5</td>\n",
    "</tr>\n",
    "<tr>\n",
    "    <td><strong>Graph 3</strong></td>\n",
    "    <td>1</td>\n",
    "    <td>1</td>\n",
    "    <td>1</td>\n",
    "    <td>2</td>\n",
    "    <td>1</td>\n",
    "    <td>0.5</td>\n",
    "    <td>6.5</td>\n",
    "</tr>\n",
    "<tr><td><strong>Graph 4</strong></td>\n",
    "    <td>3</td>\n",
    "    <td>1</td>\n",
    "    <td>1</td>\n",
    "    <td>2</td>\n",
    "    <td>1</td>\n",
    "    <td>0.5</td>\n",
    "    <td>8.5</td>\n",
    "</tr>\n",
    "<tr>\n",
    "    <td><strong>Graph 5</strong></td>\n",
    "    <td>2.5</td>\n",
    "    <td>1</td>\n",
    "    <td>2</td>\n",
    "    <td>1</td>\n",
    "    <td>1</td>\n",
    "    <td>0</td>\n",
    "    <td>7.5</td>\n",
    "</tr>\n",
    "</table>"
   ]
  },
  {
   "cell_type": "markdown",
   "metadata": {},
   "source": [
    "## Assessment explaination:"
   ]
  },
  {
   "cell_type": "markdown",
   "metadata": {},
   "source": [
    "### Graph 1: Amount of Human cause warming  \n",
    "\n",
    "Source: [Graph1](https://www.ucsusa.org/global-warming/science-and-impacts/science/human-contribution-to-gw-faq.html)  \n",
    "\n",
    "<img src=\"figure_1.jpg\" width=\"500\">"
   ]
  },
  {
   "cell_type": "markdown",
   "metadata": {},
   "source": [
    "* The graph has clear explanation, clear title, no overdressing or unnecessary elements, and the visualization color is easy to read and understand.  \n",
    "* Ordering is clear, the timeline is pretty clear with year order and each time period can fully represent people percentage are affected by Human-emitted green gas. \n",
    "* Graph labeling/title problem:the explanation of each time line is too long. I recommend the author list important point instead of whole sentence. \n",
    "* Graph integrity problem 1 - the size of blue area used to represent on likelihood of human causing climate changing does not align with the original data. For example, in the third bar, \"2001 Human-emitted greenhouse gas are very likely (67%-90%) chance are responsible for more than half of the Earth's Temperature increase since 1951.\" The blue area fails to represent the range between 67%-90%.\n",
    "* Graph integrity problem 2 - using inconsist bar width is misleading. Changes in the \"upper body\" is exaggerated compared to the \"leg\" area.\n",
    "* Accessibility problem: No lternative text for images."
   ]
  },
  {
   "cell_type": "markdown",
   "metadata": {},
   "source": [
    "### Graph 2:  Human Activities and the Global Carbon Dioxide Budget\n",
    "\n",
    "Source: [Graph2](https://nca2014.globalchange.gov/report/response-strategies/mitigation)   \n",
    "\n",
    "<img src=\"figure_2.jpg\" width=\"500\">"
   ]
  },
  {
   "cell_type": "markdown",
   "metadata": {},
   "source": [
    "* Everything on the graph 2 is perfect besides graph clarity. \n",
    "* I like the graph coloring and labels, because these two elements are very clear and easy to read. \n",
    "* Graph clarity problem: The explanation is a little bit confused. The two arrows on CO2 source and CO2 sink which makes me confused. The article explains that \"CO2 is emitted from any source and then circulate in the land-atmosphere-ocean system, and it is finally converted into stable forms in soils, deep ocean sediments, or other geological repositories\". However, the two arrows in graph cannot clear explain how the circulate in the land-atmosphere-ocean system works. \n"
   ]
  },
  {
   "cell_type": "markdown",
   "metadata": {},
   "source": [
    "### Graph 3:   Human-induced drivers of climate change have been much larger than natural drivers over the last century. \n",
    "Source: [Graph3](https://www.science.org.au/learning/general-audience/science-booklets-0/science-climate-change/3-are-human-activities-causing)  \n",
    "\n",
    "<img src=\"figure_3.png\" width=\"700\">"
   ]
  },
  {
   "cell_type": "markdown",
   "metadata": {},
   "source": [
    "* Graph clarity problem: The explanation under graph is messy, the source and definition should put in the separate line. \n",
    "* Graph Labeling/title problem 1: Titles are unclear in this graph. Is “Effect on climate change(Watts per square metre) means x-axis definition or graph title? Additionally, coordinate axis is not defined clearly.\n",
    "* Graph Labeling/title problem 2: Vague labels happened in the graph. “Error bars indicate 5-95 uncertainties”, this is no clear label represent ‘error bars’,I assume the black bold line in the chart meaning it. \n",
    "* Accessibility problem: Because the solar effect (shown in green) is very small, it is really hard to read through the graph. I will recommend to choose a more contrast color instead.\n"
   ]
  },
  {
   "cell_type": "markdown",
   "metadata": {},
   "source": [
    "### Graph 4: Climate models can correctly replicate recent warming only if they include human influences.  \n",
    "\n",
    "Source: [Graph4](https://www.science.org.au/learning/general-audience/science-booklets-0/science-climate-change/3-are-human-activities-causing)  \n",
    "\n",
    "<img src=\"figure_4.png\" width=\"700\">"
   ]
  },
  {
   "cell_type": "markdown",
   "metadata": {},
   "source": [
    "* The graph has a very clear explanation how human activities affect temperature change, but still three major problems as below:\n",
    "* Graph Labeling/title problem 1: Vague labels on what is the pink, purple and blue represent for? \n",
    "* Graph Labeling/title problem 2: The source and definition should put in the separate line. \n",
    "* Accessibility problem:  Model colors are not contrast enough. Stronger colors will help people to read. "
   ]
  },
  {
   "cell_type": "markdown",
   "metadata": {},
   "source": [
    "### Graph 5:  The graph is about human is not major cause of climate change  \n",
    "\n",
    "\n",
    "Source: [Graph5](https://medium.com/@pullnews/what-i-learned-about-climate-change-the-science-is-not-settled-1e3ae4712ace)  \n",
    "\n",
    "<img src=\"figure_5.png\" width=\"700\">"
   ]
  },
  {
   "cell_type": "markdown",
   "metadata": {},
   "source": [
    "* The graph has a good example on how human activities is not affect temperature change, but still have three major problems as below:\n",
    "* Graph clarity problem: Overdressing elements on graph, hard to find the important part.\n",
    "* Graph labels/title problem 1: Is the arrow point the specific point or an range? Is the horizontal arrows means a range?\n",
    "* Graph labels/title problem 2: Unclear title: No x-axis title.\n",
    "* Accessibility problem1: Model colors are not contrast enough,stronger colors will help people to read. \n",
    "* Accessibility problem2: No lternative text for images."
   ]
  },
  {
   "cell_type": "markdown",
   "metadata": {},
   "source": [
    "## Conclusion:  \n",
    "By doing an literature search on effectiveness visualization, I learned many new criteria to evaluate an effective graph. For example, graph intergrity is so important,because any underestimate or overblown will lead a mistake to audience. On the other hand, I never think about accessibility problems before. After I read \"accessible data viz is better data viz\" by Cole, I realized that creating an effective visualization needs to concerns many areas. For instance, an alt webpage image can help disability people to read paper. Moreover, constrast color can help color blindess people to have a better understanding of graphs.\n",
    "I really like this self study project, I will use what I learned to contribute on my future visualizations. "
   ]
  },
  {
   "cell_type": "markdown",
   "metadata": {},
   "source": [
    "## Reference: \n",
    "* <b>Literature search citation</b>:  \n",
    "\"Play Your Charts Right.\" GECKOBOARD, [www.geckoboard.com/learn/data-literacy/data-visualization-tips/](http://www.geckoboard.com/learn/data-literacy/data-visualization-tips).  \n",
    "     Branson, Max. \"EFFECTIVE DATA VISUALIZATION.\" Killer infographics, 9 Mar. 2016, \n",
    "     [killerinfographics.com/blog/effective-data-visualization.html](http://killerinfographics.com/blog/effective-data-visualization.html)  \n",
    "     French, Katy. \"25 Tips to Instantly Improve Your Data Visualization Design.\" Column Five, \n",
    "     www.columnfivemedia.com/25-tips-to-upgrade-your-data-visualization-design.  \n",
    "     NUSSBAUMER KNAFLIC, COLE. \"accessible data viz is better data viz.\" storying with data, 26 June \n",
    "     2018, www.storytellingwithdata.com/blog/2018/6/26/accessible-data-viz-is-better-data-viz.  \n",
    "     \n",
    "\n",
    "* <b>Figure source citation</b>:  \n",
    "Graph 1: \"How Do We Know that Humans Are the Major Cause of Global Warming?\" Union of Concerned Scientists, 1 \n",
    "     Aug. 2017, [www.ucsusa.org/global-warming/science-and-impacts/science/human-contribution-to-gw-faq.html](http://www.ucsusa.org/global-warming/science-and-impacts/science/human-contribution-to-gw-faq.html)  \n",
    "Graph 2: Jacoby, Henry D, and Anthony C Janetos. \"Mitigation.\" Welcome to the National Climate Assessment, \n",
    "     edited by Birdsey, [nca2014.globalchange.gov/report/response-strategies/mitigation](http://nca2014.globalchange.gov/report/response-strategies/mitigation).  \n",
    "Graph 3: \"Are human activities causing climate change?\" Australian Academic of Science, [www.science.org.au/learning/general-audience/science-booklets-0/science-climate-change/3-are-human-activities-causing](http://www.science.org.au/learning/general-audience/science-booklets-0/science-climate-change/3-are-human-activities-causing).  \n",
    "Graph 4:  \"Are human activities causing climate change?\" Australian Academic of Science, [www.science.org.au/learning/general-audience/science-booklets-0/science-climate-change/3-are-human-activities-causing](http://www.science.org.au/learning/general-audience/science-booklets-0/science-climate-change/3-are-human-activities-causing).\n",
    "Graph 5:Siegel, David. \"What I Learned about Climate Change: The Science is not Settled.\" medium, 16 Oct.2015, [medium.com/@pullnews/what-i-learned-about-climate-change-the-science-is-not-settled-1e3ae4712ace].(http://medium.com/@pullnews/what-i-learned-about-climate-change-the-science-is-not-settled-1e3ae4712ace) "
   ]
  },
  {
   "cell_type": "markdown",
   "metadata": {},
   "source": [
    "# Part two: warming stripes"
   ]
  },
  {
   "cell_type": "markdown",
   "metadata": {},
   "source": [
    "## Warming strips graph:"
   ]
  },
  {
   "cell_type": "markdown",
   "metadata": {},
   "source": [
    "<img src=\"Swizerland_temp.png\" width=\"700\">"
   ]
  },
  {
   "cell_type": "markdown",
   "metadata": {},
   "source": [
    "<b>Notification</b>: Because year 2019 includes many null values,I did not include the data in the warm strips graph."
   ]
  },
  {
   "cell_type": "markdown",
   "metadata": {},
   "source": [
    "## Dataset source:"
   ]
  },
  {
   "cell_type": "markdown",
   "metadata": {},
   "source": [
    "\n",
    "Begert M, Frei C. 2018. \"Area-mean temperatures of Switzerland.\" Federal Office of Meteorology and Climatology Meteoswiss, [https://www.meteoswiss.admin.ch/product/input/climate-data/swissmean/10.18751-Climate-Timeseries-CHTM-1.1-swiss.txt](https://www.meteoswiss.admin.ch/product/input/climate-data/swissmean/10.18751-Climate-Timeseries-CHTM-1.1-swiss.txt)"
   ]
  },
  {
   "cell_type": "markdown",
   "metadata": {},
   "source": [
    "## Link to tableau:  \n",
    "Link to [Swizerland_Temp.twb](https://github.com/Cindyli0310/Data_viz_self_study_project/blob/master/Swizerland_Temp.twb)  "
   ]
  }
 ],
 "metadata": {
  "kernelspec": {
   "display_name": "Python 3",
   "language": "python",
   "name": "python3"
  },
  "language_info": {
   "codemirror_mode": {
    "name": "ipython",
    "version": 3
   },
   "file_extension": ".py",
   "mimetype": "text/x-python",
   "name": "python",
   "nbconvert_exporter": "python",
   "pygments_lexer": "ipython3",
   "version": "3.7.1"
  }
 },
 "nbformat": 4,
 "nbformat_minor": 2
}
